{
 "cells": [
  {
   "cell_type": "code",
   "execution_count": 1,
   "id": "e35dd180-5a01-46ea-b822-4cc4402981e4",
   "metadata": {},
   "outputs": [],
   "source": [
    "# Dalam pembuatan program, banyak menggunakan operasi-operasi yang melibatkan nilai numerik, string dll.\n",
    "# Operator diklasifikasikan ke dalam 6 klp:\n",
    "# 1) Operator penugasan\n",
    "# 2) Operator aritmetika\n",
    "# 3) Operator relasional\n",
    "# 4) Operator logika\n",
    "# 5) Operator string\n",
    "# 6) Operator bitwise"
   ]
  },
  {
   "cell_type": "code",
   "execution_count": 5,
   "id": "9ad74ede-1d8d-455a-bbce-ec0f1d38f61e",
   "metadata": {},
   "outputs": [
    {
     "name": "stdout",
     "output_type": "stream",
     "text": [
      "18\n"
     ]
    }
   ],
   "source": [
    "# CONTOH OPERATOR PENUGASAN\n",
    "# menggunakan tanda operasi / operator sama dengan (=)\n",
    "# contoh\n",
    "\n",
    "a = 10\n",
    "a = a + 8\n",
    "print(a)"
   ]
  },
  {
   "cell_type": "code",
   "execution_count": 9,
   "id": "5b85fc9c-a4ab-44fa-ad4f-b66cd67a99ac",
   "metadata": {},
   "outputs": [
    {
     "name": "stdout",
     "output_type": "stream",
     "text": [
      "18\n"
     ]
    }
   ],
   "source": [
    "# merubah kode operasi penjumlahan\n",
    "# contoh\n",
    "a = 10\n",
    "a += 8\n",
    "print(a)"
   ]
  },
  {
   "cell_type": "code",
   "execution_count": 11,
   "id": "543281ba-dcff-4dc4-afc2-7a3bb1882469",
   "metadata": {},
   "outputs": [
    {
     "name": "stdout",
     "output_type": "stream",
     "text": [
      "60\n"
     ]
    }
   ],
   "source": [
    "# operasi perkalian\n",
    "b = 30\n",
    "b *= 2\n",
    "print(b)"
   ]
  },
  {
   "cell_type": "code",
   "execution_count": 15,
   "id": "15712f96-a9f6-46db-8af4-25ee7d7152db",
   "metadata": {},
   "outputs": [
    {
     "name": "stdout",
     "output_type": "stream",
     "text": [
      "4\n"
     ]
    }
   ],
   "source": [
    "# operasi pembagian bilangan bulat (//=)\n",
    "b = 30\n",
    "b //= 7\n",
    "print(b)"
   ]
  },
  {
   "cell_type": "code",
   "execution_count": 17,
   "id": "3e77bcb0-55db-4eb6-8efa-f6a1dc69dd36",
   "metadata": {},
   "outputs": [
    {
     "name": "stdout",
     "output_type": "stream",
     "text": [
      "4\n",
      "4.285714285714286\n"
     ]
    }
   ],
   "source": [
    "# operasi pembagian bilangan bulat (//=)\n",
    "b = 30\n",
    "b //= 7\n",
    "print(b)\n",
    "print(30/7)"
   ]
  },
  {
   "cell_type": "code",
   "execution_count": 19,
   "id": "a313fa4c-5703-4975-8ff4-e1fe022e1732",
   "metadata": {},
   "outputs": [
    {
     "name": "stdout",
     "output_type": "stream",
     "text": [
      "2\n"
     ]
    }
   ],
   "source": [
    "# operasi pencarian sisa bagi (%=)\n",
    "b = 30\n",
    "b %= 7\n",
    "print(b)"
   ]
  },
  {
   "cell_type": "code",
   "execution_count": 27,
   "id": "e6791a6d-8e56-4687-870a-4893fcb69586",
   "metadata": {},
   "outputs": [
    {
     "name": "stdout",
     "output_type": "stream",
     "text": [
      "x = 10\n",
      "y = 10\n",
      "x + y 20\n",
      "x - y 0\n",
      "x * y 100\n",
      "x / y 1.0\n",
      "x // y 1\n",
      "x % y 0\n",
      "x ** y 10000000000\n"
     ]
    }
   ],
   "source": [
    "# CONTOH OPERATOR ARITMETIKA\n",
    "# Bentuk operator:\n",
    "# (+) --> penjumlahan\n",
    "# (-) --> pengurangan\n",
    "# (*) --> perkalian\n",
    "# (/) --> pembagian bil. bulat\n",
    "# (//) --> pembagian bil. rill\n",
    "# (%) --> sisa bagi\n",
    "# (**)--> perpangkatan\n",
    "\n",
    "# Contoh program\n",
    "def main():\n",
    "    # mendefinisikan variabel x dan y\n",
    "    x = 10\n",
    "    y = 10\n",
    "\n",
    "    # menampilkan nilai x dan y\n",
    "    print('x =', x)\n",
    "    print('y =', y)\n",
    "\n",
    "    # melakukan perhitungan terhadap x dan y\n",
    "    print('x + y', (x + y))\n",
    "    print('x - y', (x - y))\n",
    "    print('x * y', (x * y))\n",
    "    print('x / y', (x / y))\n",
    "    print('x // y',(x // y))\n",
    "    print('x % y', (x % y))\n",
    "    print('x ** y', (x ** y))\n",
    "\n",
    "if __name__== '__main__':\n",
    "    main()\n",
    "    "
   ]
  },
  {
   "cell_type": "code",
   "execution_count": 45,
   "id": "ddb1b00f-154f-40b0-9803-63572499e37e",
   "metadata": {},
   "outputs": [
    {
     "name": "stdout",
     "output_type": "stream",
     "text": [
      "x = 8\n",
      "y = 5\n",
      "[2, 4, 6, 8, 10]\n",
      "x == y False\n",
      "x != y True\n",
      "x > y True\n",
      "x >= y True\n",
      "x < y False\n",
      "x <= y False\n",
      "x in li True\n",
      "y in li False\n"
     ]
    }
   ],
   "source": [
    "# CONTOH OPERATOE RELASIONAL\n",
    "# operator yang digunakan untuk membandingkan dua buah nilai,\n",
    "# hasil yang diperoleh adalah nilai logika (bertipe bool), yaitu True(benar) atau False(salah)\n",
    "# Bentuk operator:\n",
    "# (==) --> sama dengan\n",
    "# (!=) --> tidak sama dengan\n",
    "# (>) --> lebih besar\n",
    "# (>=) --> lebih besar atau sama dengan\n",
    "# (<) --> lebih kecil\n",
    "# (<=) --> lebih kecil atau sama dengan\n",
    "# (in) --> memeriksa nilai dalam kumpulan\n",
    "\n",
    "# contoh program\n",
    "def main():\n",
    "    # mendefinisikan variabel x dan y\n",
    "    # dan li (bertipe list)\n",
    "    x = 8 \n",
    "    y = 5\n",
    "    li = [2, 4, 6, 8, 10,]\n",
    "\n",
    "    # menampilkan nilai x dan y\n",
    "    print('x =', x)\n",
    "    print('y =', y)\n",
    "    print(li)\n",
    "\n",
    "    # melakukan pemeriksaan terhadap x dan y\n",
    "    print('x == y', (x == y))\n",
    "    print('x != y', (x != y))\n",
    "    print('x > y', (x > y))\n",
    "    print('x >= y', (x >= y))\n",
    "    print('x < y', (x < y))\n",
    "    print('x <= y', (x <= y))\n",
    "    print('x in li', (x in li))\n",
    "    print('y in li', (y in li))\n",
    "\n",
    "if __name__ == '__main__':\n",
    "    main()"
   ]
  },
  {
   "cell_type": "code",
   "execution_count": 43,
   "id": "cef16ef9-8637-4483-b297-149f74b27aa1",
   "metadata": {},
   "outputs": [
    {
     "name": "stdout",
     "output_type": "stream",
     "text": [
      "Operasi AND\n",
      "True and true \t: True\n",
      "True and false \t: False\n",
      "False and True \t: False\n",
      "False and True \t: False\n"
     ]
    }
   ],
   "source": [
    "# Contoh program operasi AND\n",
    "def main():\n",
    "    print('Operasi AND')\n",
    "    print('True and true \\t:',(True and True))\n",
    "    print('True and false \\t:',(True and False))\n",
    "    print('False and True \\t:',(False and True))\n",
    "    print('False and True \\t:',(False and True))\n",
    "if __name__ == '__main__':\n",
    "    main()"
   ]
  },
  {
   "cell_type": "code",
   "execution_count": null,
   "id": "5a9b978e-7165-422f-9f49-b897b1931d12",
   "metadata": {},
   "outputs": [],
   "source": []
  },
  {
   "cell_type": "code",
   "execution_count": 55,
   "id": "6d7c8238-be74-41e1-8dbd-dbfa4930c515",
   "metadata": {},
   "outputs": [
    {
     "name": "stdout",
     "output_type": "stream",
     "text": [
      "Operasi OR\n",
      "True or true \t: True\n",
      "True or false \t: True\n",
      "False or True \t: True\n",
      "False or  False \t: False\n"
     ]
    }
   ],
   "source": [
    "# Contoh program operasi OR\n",
    "def main():\n",
    "    print('Operasi OR')\n",
    "    print('True or true \\t:',(True or True))\n",
    "    print('True or false \\t:',(True or False))\n",
    "    print('False or True \\t:',(False or True))\n",
    "    print('False or  False \\t:',(False or False))\n",
    "if __name__ == '__main__':\n",
    "    main()"
   ]
  },
  {
   "cell_type": "code",
   "execution_count": 61,
   "id": "c169143a-c39a-4baf-b03e-29958774c47c",
   "metadata": {},
   "outputs": [
    {
     "name": "stdout",
     "output_type": "stream",
     "text": [
      "Operasi NOT\n",
      "True \t: False\n",
      "False \t: True\n"
     ]
    }
   ],
   "source": [
    "# Contoh program operasi OR\n",
    "def main():\n",
    "    print('Operasi NOT')\n",
    "    print('True \\t:',(not True))\n",
    "    print('False \\t:',(not False))\n",
    "    \n",
    "if __name__ == '__main__':\n",
    "    main()"
   ]
  },
  {
   "cell_type": "code",
   "execution_count": 63,
   "id": "cbf42f58-0e7f-4ad0-8597-5eb2e3babb87",
   "metadata": {},
   "outputs": [
    {
     "name": "stdout",
     "output_type": "stream",
     "text": [
      "RizkiSaputra\n"
     ]
    }
   ],
   "source": [
    "# CONTOH OPERATOR STRING\n",
    "\n",
    "# Contoh:\n",
    "str1 = 'Rizki'\n",
    "str2 = 'Saputra'\n",
    "\n",
    "# Menjumlahkan String\n",
    "str3 = str1 + str2\n",
    "print(str3)"
   ]
  },
  {
   "cell_type": "code",
   "execution_count": 65,
   "id": "3cb79d7b-d985-4986-bdcf-2eabb6174b30",
   "metadata": {},
   "outputs": [
    {
     "name": "stdout",
     "output_type": "stream",
     "text": [
      "bil1: 24\n",
      "bil2: 4.2\n"
     ]
    }
   ],
   "source": [
    "# Jika String akan digabung dengan nilai numerik maka nilai numerik tersebut perlu dikonversi ke tipe str\n",
    "\n",
    "# contoh:\n",
    "bil1 = 24\n",
    "bil2 = 4.20\n",
    "\n",
    "print('bil1: ' + str(bil1))\n",
    "print('bil2: ' + str(bil2))"
   ]
  },
  {
   "cell_type": "code",
   "execution_count": 69,
   "id": "739afbf3-b416-418b-ba6f-68da1808c480",
   "metadata": {},
   "outputs": [
    {
     "name": "stdout",
     "output_type": "stream",
     "text": [
      "bil1: 24\n",
      "bil2: 4.20\n"
     ]
    }
   ],
   "source": [
    "# cara lain untuk menyambung nilai numerik dgn string adalah dgn membuat string terformat (formated string)\n",
    "# Contoh:\n",
    "bil1 = 24\n",
    "bil2 = 4.20\n",
    "\n",
    "str1 = 'bil1: %d' % bil1\n",
    "str2 = 'bil2: %.2f' % bil2\n",
    "\n",
    "print(str1)\n",
    "print(str2)"
   ]
  },
  {
   "cell_type": "code",
   "execution_count": 73,
   "id": "5758f97a-f993-4ab3-a344-45312e3ed5f6",
   "metadata": {},
   "outputs": [
    {
     "name": "stdout",
     "output_type": "stream",
     "text": [
      "'indonesia' ada didalam string rizki\n"
     ]
    }
   ],
   "source": [
    "# operator \"in\" untuk memeriksa apakah karakter atau substring tertentu ada di dalam string\n",
    "\n",
    "# Contoh\n",
    "rizki = 'indonesia'\n",
    "if 'indonesia' in rizki:\n",
    "    print(\"'indonesia' ada didalam string rizki\")\n",
    "else:\n",
    "    print(\"'indonesia' tidak ada di dalam string rizki\")\n",
    "          "
   ]
  },
  {
   "cell_type": "code",
   "execution_count": 89,
   "id": "70e98fdb-754f-405b-9a46-980df166cc66",
   "metadata": {},
   "outputs": [
    {
     "name": "stdout",
     "output_type": "stream",
     "text": [
      "x:\t20\n",
      "y:\t10\n",
      "\n",
      "Bitwise AND\n",
      "x&y\t:0\n",
      "\n",
      "Bitwise OR\n",
      "x|y\t:30\n",
      "\n",
      "Bitwise XOR\n",
      "x^y/t:30\n",
      "\n",
      "Bitwise NOT\n",
      "~x/t:-21\n",
      "~y/t:-11\n",
      "\n",
      "Bitwise Shift left\n",
      "x<<1\t:40\n",
      "x<<1\t:40\n",
      "\n",
      "Bitwise Shift Right\n",
      "x>>1\t:10\n",
      "x>>1\t:10\n"
     ]
    }
   ],
   "source": [
    "# Contoh:\n",
    "def main():\n",
    "    x = 20\n",
    "    y = 10\n",
    "\n",
    "    # Menampilkan nilai x dan y\n",
    "    print('x:\\t' + str(x))\n",
    "    print('y:\\t' + str(y))\n",
    "\n",
    "    print(\"\\nBitwise AND\")\n",
    "    print(\"x&y\\t:\" + str(x & y))\n",
    "\n",
    "    print(\"\\nBitwise OR\")\n",
    "    print(\"x|y\\t:\" + str(x|y))\n",
    "\n",
    "    print(\"\\nBitwise XOR\")\n",
    "    print(\"x^y/t:\" + str(x ^ y))\n",
    "\n",
    "    print(\"\\nBitwise NOT\")\n",
    "    print(\"~x/t:\" + str(~x))\n",
    "    print(\"~y/t:\" + str(~y))\n",
    "\n",
    "    print(\"\\nBitwise Shift left\")\n",
    "    print(\"x<<1\\t:\" + str(x<<1))\n",
    "    print(\"x<<1\\t:\" + str(x<<1))\n",
    "\n",
    "    print(\"\\nBitwise Shift Right\")\n",
    "    print(\"x>>1\\t:\" + str(x>>1))\n",
    "    print(\"x>>1\\t:\" + str(x>>1))\n",
    "\n",
    "if __name__=='__main__':\n",
    "    main()"
   ]
  },
  {
   "cell_type": "code",
   "execution_count": null,
   "id": "642bb505-8f22-4760-9de8-9e9c9eba5445",
   "metadata": {},
   "outputs": [],
   "source": []
  }
 ],
 "metadata": {
  "kernelspec": {
   "display_name": "anaconda-panel-2023.05-py310",
   "language": "python",
   "name": "conda-env-anaconda-panel-2023.05-py310-py"
  },
  "language_info": {
   "codemirror_mode": {
    "name": "ipython",
    "version": 3
   },
   "file_extension": ".py",
   "mimetype": "text/x-python",
   "name": "python",
   "nbconvert_exporter": "python",
   "pygments_lexer": "ipython3",
   "version": "3.11.5"
  }
 },
 "nbformat": 4,
 "nbformat_minor": 5
}
