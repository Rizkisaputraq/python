{
 "cells": [
  {
   "cell_type": "code",
   "execution_count": null,
   "id": "d1f0ed91-18a9-42b5-a7e9-77110fed4d15",
   "metadata": {},
   "outputs": [],
   "source": []
  },
  {
   "cell_type": "code",
   "execution_count": 11,
   "id": "837234c6-d85c-4f29-8e13-0332f65259c2",
   "metadata": {},
   "outputs": [
    {
     "name": "stdout",
     "output_type": "stream",
     "text": [
      "['pepaya', 'apel', 'pisang', 'rambutan']\n",
      "pepaya berada pada indeks ke-\n",
      "0\n",
      "pisang berada pada indeks ke-\n",
      "pisang berada pada indeks ke-\n",
      "2\n"
     ]
    }
   ],
   "source": [
    "# membuat list\n",
    "buah = ['pepaya','apel','pisang','rambutan','rasberry']\n",
    "print(type(buah))\n",
    "buah = ("
   ]
  },
  {
   "cell_type": "code",
   "execution_count": 30,
   "id": "8ee7cb39-b60a-4006-831f-1b5669d0173d",
   "metadata": {},
   "outputs": [
    {
     "ename": "AttributeError",
     "evalue": "'tuple' object has no attribute 'append'",
     "output_type": "error",
     "traceback": [
      "\u001b[0;31m---------------------------------------------------------------------------\u001b[0m",
      "\u001b[0;31mAttributeError\u001b[0m                            Traceback (most recent call last)",
      "Cell \u001b[0;32mIn[30], line 2\u001b[0m\n\u001b[1;32m      1\u001b[0m \u001b[38;5;66;03m# menambah append(); elemen tunggal dibagian akhir\u001b[39;00m\n\u001b[0;32m----> 2\u001b[0m buah\u001b[38;5;241m.\u001b[39mappend(\u001b[38;5;124m'\u001b[39m\u001b[38;5;124mPepaya\u001b[39m\u001b[38;5;124m'\u001b[39m)\n\u001b[1;32m      3\u001b[0m \u001b[38;5;28mprint\u001b[39m(\u001b[38;5;124m'\u001b[39m\u001b[38;5;130;01m\\n\u001b[39;00m\u001b[38;5;124mSetelah append():\u001b[39m\u001b[38;5;124m'\u001b[39m)\n\u001b[1;32m      4\u001b[0m \u001b[38;5;28mprint\u001b[39m(buah)\n",
      "\u001b[0;31mAttributeError\u001b[0m: 'tuple' object has no attribute 'append'"
     ]
    }
   ],
   "source": [
    "# menambah append(); elemen tunggal dibagian akhir\n",
    "buah.append('Pepaya')\n",
    "print('\\nSetelah append():')\n",
    "print(buah)\n",
    "\n",
    "# metode extend(); untuk menyambung atau menggabungkan suatu list\n",
    "buah.extend(['jambu','pir','cherry'])\n",
    "print(buah)\n",
    "\n",
    "# mengubah\n",
    "buah = ('pepaya','apel','pisang','rasberry')\n",
    "print(\"sebelum diubah\")\n",
    "print(buah)\n",
    "\n",
    "# membuat nilai element list\n",
    "buah [2] = 'rambutan'\n",
    "buah [-2] = 'kelengkeng'\n",
    "\n",
    "# menampilkan hasil perubahan\n",
    "print('/setelah diubah:')\n",
    "print(buah)\n",
    "\n",
    "# Mengurangi\n",
    "buah = ( 'pepaya','apel','pisang','rambutan','rasberry')\n",
    "print('sebelum dihapus')\n",
    "print(buah)\n",
    "#menggunakan remove(); menghapus element list berdasarkan nilainya\n",
    "#bentuk umum: nama_variable.remove\n",
    "buah.remove('apel')\n",
    "buah.remove('pisang')\n",
    "# menampilkan hasil setelah dihapus dengan metode remove()\n",
    "print('\\nSetelah dihapus dengan metode remove():')\n",
    "print(buah)\n",
    "\n",
    "\n"
   ]
  },
  {
   "cell_type": "code",
   "execution_count": 11,
   "id": "cc234382-0b0b-4b9b-a3da-ae9224acd85f",
   "metadata": {},
   "outputs": [
    {
     "name": "stdout",
     "output_type": "stream",
     "text": [
      "['pepaya', 'apel', 'pisang', 'rambutan']\n",
      "pepaya berada pada indeks ke-\n",
      "0\n",
      "pisang berada pada indeks ke-\n",
      "pisang berada pada indeks ke-\n",
      "2\n"
     ]
    }
   ],
   "source": [
    "# membuat list\n",
    "buah = ['pepaya','apel','pisang','rambutan']\n",
    "print(buah)\n",
    "\n",
    "# mencari element list\n",
    "# bentuk umum: nama_variable.indeks('nilai atau element yang akan di indeks')\n",
    "print('pepaya berada pada indeks ke-')\n",
    "print(buah.index('pepaya'))\n",
    "print('pisang berada pada indeks ke-')\n",
    "print('pisang berada pada indeks ke-')\n",
    "print(buah.index('pisang'))"
   ]
  },
  {
   "cell_type": "raw",
   "id": "daf77b8a-29e3-46c6-a334-f33a7a22e20b",
   "metadata": {},
   "source": []
  }
 ],
 "metadata": {
  "kernelspec": {
   "display_name": "anaconda-panel-2023.05-py310",
   "language": "python",
   "name": "conda-env-anaconda-panel-2023.05-py310-py"
  },
  "language_info": {
   "codemirror_mode": {
    "name": "ipython",
    "version": 3
   },
   "file_extension": ".py",
   "mimetype": "text/x-python",
   "name": "python",
   "nbconvert_exporter": "python",
   "pygments_lexer": "ipython3",
   "version": "3.11.5"
  }
 },
 "nbformat": 4,
 "nbformat_minor": 5
}
