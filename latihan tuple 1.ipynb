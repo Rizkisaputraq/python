{
 "cells": [
  {
   "cell_type": "code",
   "execution_count": 1,
   "id": "3ac0d4ec-c2a2-4ce3-a536-60b7123bdac5",
   "metadata": {},
   "outputs": [
    {
     "name": "stdout",
     "output_type": "stream",
     "text": [
      "<class 'list'>\n"
     ]
    }
   ],
   "source": [
    "buah = ['rambutan','pisang','rasberry']\n",
    "print(type(buah))"
   ]
  },
  {
   "cell_type": "code",
   "execution_count": 7,
   "id": "aa211fc1-9394-46b6-b7a6-95c9f7d7a7db",
   "metadata": {},
   "outputs": [
    {
     "name": "stdout",
     "output_type": "stream",
     "text": [
      "<class 'list'>\n",
      "mengubah type tuple\n",
      "<class 'tuple'>\n"
     ]
    }
   ],
   "source": [
    "buah = ['rambutan','pisang','rasberry']\n",
    "print(type(buah))\n",
    "buah = ('rambutan','pisang','rasberry')\n",
    "print('mengubah type tuple')\n",
    "print(type(buah))"
   ]
  },
  {
   "cell_type": "code",
   "execution_count": 12,
   "id": "7d40ebe8-5cc4-4ae1-b3cb-5b659ba2ca5f",
   "metadata": {},
   "outputs": [
    {
     "ename": "AttributeError",
     "evalue": "'tuple' object has no attribute 'append'",
     "output_type": "error",
     "traceback": [
      "\u001b[0;31m---------------------------------------------------------------------------\u001b[0m",
      "\u001b[0;31mAttributeError\u001b[0m                            Traceback (most recent call last)",
      "Cell \u001b[0;32mIn[12], line 2\u001b[0m\n\u001b[1;32m      1\u001b[0m \u001b[38;5;66;03m# menambah append(); elemen tunggal dibagian akhir\u001b[39;00m\n\u001b[0;32m----> 2\u001b[0m buah\u001b[38;5;241m.\u001b[39mappend(\u001b[38;5;124m'\u001b[39m\u001b[38;5;124mPepaya\u001b[39m\u001b[38;5;124m'\u001b[39m)\n\u001b[1;32m      3\u001b[0m \u001b[38;5;28mprint\u001b[39m(\u001b[38;5;124m'\u001b[39m\u001b[38;5;130;01m\\n\u001b[39;00m\u001b[38;5;124mSetelah append():\u001b[39m\u001b[38;5;124m'\u001b[39m)\n\u001b[1;32m      4\u001b[0m \u001b[38;5;28mprint\u001b[39m(buah)\n",
      "\u001b[0;31mAttributeError\u001b[0m: 'tuple' object has no attribute 'append'"
     ]
    }
   ],
   "source": [
    "# menambah append(); elemen tunggal dibagian akhir\n",
    "buah.append('Pepaya')\n",
    "print('\\nSetelah append():')\n",
    "print(buah)\n",
    "\n",
    "# metode extend(); untuk menyambung atau menggabungkan suatu list\n",
    "buah.extend(['jambu','pir','cherry'])\n",
    "print(buah)\n",
    "\n",
    "# mengubah\n",
    "buah = ('pepaya','apel','pisang','rasberry')\n",
    "print(\"sebelum diubah\")\n",
    "print(buah)\n",
    "\n",
    "# membuat nilai element list\n",
    "buah [2] = 'rambutan'\n",
    "buah [-2] = 'kelengkeng'\n",
    "\n",
    "# menampilkan hasil perubahan\n",
    "print('/setelah diubah:')\n",
    "print(buah)\n",
    "\n",
    "# Mengurangi\n",
    "buah = ( 'pepaya','apel','pisang','rambutan','rasberry')\n",
    "print('sebelum dihapus')\n",
    "print(buah)\n",
    "#menggunakan remove(); menghapus element list berdasarkan nilainya\n",
    "#bentuk umum: nama_variable.remove\n",
    "buah.remove('apel')\n",
    "buah.remove('pisang')\n",
    "# menampilkan hasil setelah dihapus dengan metode remove()\n",
    "print('\\nSetelah dihapus dengan metode remove():')\n",
    "print(buah)\n",
    "\n",
    "\n"
   ]
  },
  {
   "cell_type": "code",
   "execution_count": 45,
   "id": "1bd00039-22fb-49eb-9b64-01df0eba5c47",
   "metadata": {},
   "outputs": [
    {
     "name": "stdout",
     "output_type": "stream",
     "text": [
      "['pepaya', 'apel', 'pisang', 'rambutan']\n",
      "pepaya berada pada indeks ke-\n",
      "0\n",
      "pisang berada pada indeks ke-\n",
      "2\n"
     ]
    }
   ],
   "source": [
    "# membuat list\n",
    "buah = ['pepaya','apel','pisang','rambutan']\n",
    "print(buah)\n",
    "\n",
    "# mencari element list\n",
    "# bentuk umum: nama_variable.indeks('nilai atau element yang akan di indeks')\n",
    "print('pepaya berada pada indeks ke-')\n",
    "print(buah.index('pepaya'))\n",
    "print('pisang berada pada indeks ke-')\n",
    "print(buah.index('pisang'))"
   ]
  },
  {
   "cell_type": "code",
   "execution_count": 15,
   "id": "79b50fa6-b019-4cf2-972f-2c61b2c6ccbb",
   "metadata": {},
   "outputs": [
    {
     "name": "stdout",
     "output_type": "stream",
     "text": [
      "('pisang', 'rasberry', 'rambutan')\n",
      "True\n",
      "False\n"
     ]
    }
   ],
   "source": [
    "# tuple menggunakan \"in digunakan untuk memeriksa apakah termasuk item pada tuple atau tidak\"\n",
    "menu = 'pisang','rasberry','rambutan'\n",
    "print(menu)#menampilkan item pada tuple\n",
    "\n",
    "print('rasberry'in menu)\n",
    "print('racberey'in menu)"
   ]
  },
  {
   "cell_type": "code",
   "execution_count": null,
   "id": "b6cd47c7-d16a-49dc-9428-fbf13e514e3b",
   "metadata": {},
   "outputs": [],
   "source": []
  }
 ],
 "metadata": {
  "kernelspec": {
   "display_name": "anaconda-panel-2023.05-py310",
   "language": "python",
   "name": "conda-env-anaconda-panel-2023.05-py310-py"
  },
  "language_info": {
   "codemirror_mode": {
    "name": "ipython",
    "version": 3
   },
   "file_extension": ".py",
   "mimetype": "text/x-python",
   "name": "python",
   "nbconvert_exporter": "python",
   "pygments_lexer": "ipython3",
   "version": "3.11.5"
  }
 },
 "nbformat": 4,
 "nbformat_minor": 5
}
