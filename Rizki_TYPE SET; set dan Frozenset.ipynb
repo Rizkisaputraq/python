{
 "cells": [
  {
   "cell_type": "code",
   "execution_count": 2,
   "id": "c6c4340f-55c3-44fd-b852-1b95ab0a0fb5",
   "metadata": {},
   "outputs": [
    {
     "name": "stdout",
     "output_type": "stream",
     "text": [
      "{432, 21, 34, 13}\n"
     ]
    }
   ],
   "source": [
    "# untuk membuat suatu himpunan, kita perlu menggunakan fungsi set()\n",
    "# dan menyertakan runtunan nilai yang akan dijadikan sebagai elemen-elemen himpunan tersebut sbg parameternya\n",
    "# bentuk umum: nama_set = set([nilai1,nilai2,nilai3,...])\n",
    "\n",
    "s = set([13,21,34,432])\n",
    "print(s)"
   ]
  },
  {
   "cell_type": "code",
   "execution_count": 6,
   "id": "e2113cd6-bd0a-4673-8881-fafd623f3bc3",
   "metadata": {},
   "outputs": [
    {
     "name": "stdout",
     "output_type": "stream",
     "text": [
      "{432, 21, 34, 13}\n"
     ]
    }
   ],
   "source": [
    "good = set([54,32,12,56])\n",
    "print(s)\n"
   ]
  },
  {
   "cell_type": "code",
   "execution_count": 12,
   "id": "913e5438-497c-4d30-baf0-0e0224ad5761",
   "metadata": {},
   "outputs": [
    {
     "name": "stdout",
     "output_type": "stream",
     "text": [
      "Elemen awal:\n",
      "33  11  44  22  55  \n",
      "\n",
      "setelah pemanggilan add():\n",
      "33  66  11  44  77  22  55  \n",
      "\n",
      "setelah pemanggilan update():\n",
      "33  66  99  11  44  77  22  55  88  \n",
      "\n",
      "setelah pemanggilan clear():\n",
      "Himpunan kosong\n",
      "\n"
     ]
    },
    {
     "ename": "SystemExit",
     "evalue": "1",
     "output_type": "error",
     "traceback": [
      "An exception has occurred, use %tb to see the full traceback.\n",
      "\u001b[0;31mSystemExit\u001b[0m\u001b[0;31m:\u001b[0m 1\n"
     ]
    },
    {
     "name": "stderr",
     "output_type": "stream",
     "text": [
      "/opt/conda/envs/anaconda-panel-2023.05-py310/lib/python3.11/site-packages/IPython/core/interactiveshell.py:3534: UserWarning: To exit: use 'exit', 'quit', or Ctrl-D.\n",
      "  warn(\"To exit: use 'exit', 'quit', or Ctrl-D.\", stacklevel=1)\n"
     ]
    }
   ],
   "source": [
    "# contoh program yang menunjukkan pembuatan dan penggunaan himpuna\n",
    "\n",
    "import sys\n",
    "def printElements(s, info):\n",
    "    print(info)\n",
    "    if len(s) == 0:\n",
    "        print(\"Himpunan kosong\\n\")\n",
    "        sys.exit(1)\n",
    "    for e in s:\n",
    "        print(str(e) + \" \", end = ' ')\n",
    "    print(\"\\n\")\n",
    "\n",
    "# membuat himpunan \n",
    "s = set([11,22,33,44,55])\n",
    "printElements(s, \"Elemen awal:\")\n",
    "\n",
    "# menambah anggota/elemen baru\n",
    "#menggunakan metode add()\n",
    "s.add(66);\n",
    "s.add(77);\n",
    "printElements(s, \"setelah pemanggilan add():\")\n",
    "\n",
    "# menambah anggota/elemen baru\n",
    "# menggunakan metode update()\n",
    "s.update([88, 99])\n",
    "printElements(s, \"setelah pemanggilan update():\")\n",
    "\n",
    "# menghapus semua elemen\n",
    "s.clear()\n",
    "printElements(s, \"setelah pemanggilan clear():\")"
   ]
  },
  {
   "cell_type": "code",
   "execution_count": 15,
   "id": "1dfb774f-d65e-4838-aceb-9e755c75676e",
   "metadata": {},
   "outputs": [
    {
     "name": "stdout",
     "output_type": "stream",
     "text": [
      "operasi union:\n",
      "{1, 2, 3, 4}\n",
      "Operasi intersection:\n",
      "{3}\n",
      "operasi  difference:\n",
      "{1, 2}\n",
      "operasi symmetric:\n",
      "{1, 2, 4}\n"
     ]
    }
   ],
   "source": [
    "# type set mendukung operasi operasi himpunan seperti\n",
    "x = set([1, 2, 3])\n",
    "y = set([3, 4])\n",
    "\n",
    "a = x | y # union\n",
    "print('operasi union:')\n",
    "print(a)\n",
    "\n",
    "b = x & y # intersection\n",
    "print('Operasi intersection:')\n",
    "print(b)\n",
    "\n",
    "c = x - y \n",
    "print('operasi  difference:')\n",
    "print(c)\n",
    "\n",
    "d = x ^ y\n",
    "print('operasi symmetric:')\n",
    "print(d)"
   ]
  },
  {
   "cell_type": "code",
   "execution_count": 17,
   "id": "5d3a8add-bb78-40c4-923b-cbe4f0ef1dd0",
   "metadata": {},
   "outputs": [
    {
     "name": "stdout",
     "output_type": "stream",
     "text": [
      "frozenset({1, 2, 3})\n"
     ]
    }
   ],
   "source": [
    "# Jika ingin mendefinisikan suatu himpunan yang tidak dapat di ubah, baik nilai maupun jumlah anggotanya\n",
    "# perlu menggunakan fungsi frozenset()\n",
    "# bentuk umum: nama_constant_set = frozenset([nilai1, nilai2, nilai3])\n",
    "fs = frozenset([1, 2, 3])\n",
    "print(fs)"
   ]
  },
  {
   "cell_type": "code",
   "execution_count": 23,
   "id": "16d1d8a1-11bf-4249-96bd-6184cce8508a",
   "metadata": {},
   "outputs": [
    {
     "name": "stdout",
     "output_type": "stream",
     "text": [
      "frozenset({1, 2, 3})\n"
     ]
    },
    {
     "ename": "AttributeError",
     "evalue": "'frozenset' object has no attribute 'add'",
     "output_type": "error",
     "traceback": [
      "\u001b[0;31m---------------------------------------------------------------------------\u001b[0m",
      "\u001b[0;31mAttributeError\u001b[0m                            Traceback (most recent call last)",
      "Cell \u001b[0;32mIn[23], line 4\u001b[0m\n\u001b[1;32m      2\u001b[0m fs \u001b[38;5;241m=\u001b[39m \u001b[38;5;28mfrozenset\u001b[39m([\u001b[38;5;241m1\u001b[39m, \u001b[38;5;241m2\u001b[39m, \u001b[38;5;241m3\u001b[39m])\n\u001b[1;32m      3\u001b[0m \u001b[38;5;28mprint\u001b[39m(fs)\n\u001b[0;32m----> 4\u001b[0m fs\u001b[38;5;241m.\u001b[39madd(\u001b[38;5;241m4\u001b[39m)\n",
      "\u001b[0;31mAttributeError\u001b[0m: 'frozenset' object has no attribute 'add'"
     ]
    }
   ],
   "source": [
    "# frozenset tidak memiliki metode add()\n",
    "fs = frozenset([1, 2, 3])\n",
    "print(fs)\n",
    "fs.add(4)"
   ]
  },
  {
   "cell_type": "code",
   "execution_count": null,
   "id": "22b38111-d482-44cb-b526-8a64cc702f05",
   "metadata": {},
   "outputs": [],
   "source": []
  }
 ],
 "metadata": {
  "kernelspec": {
   "display_name": "anaconda-panel-2023.05-py310",
   "language": "python",
   "name": "conda-env-anaconda-panel-2023.05-py310-py"
  },
  "language_info": {
   "codemirror_mode": {
    "name": "ipython",
    "version": 3
   },
   "file_extension": ".py",
   "mimetype": "text/x-python",
   "name": "python",
   "nbconvert_exporter": "python",
   "pygments_lexer": "ipython3",
   "version": "3.11.5"
  }
 },
 "nbformat": 4,
 "nbformat_minor": 5
}
