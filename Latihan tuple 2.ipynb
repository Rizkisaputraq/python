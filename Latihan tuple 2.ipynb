{
 "cells": [
  {
   "cell_type": "code",
   "execution_count": 4,
   "id": "e059506d-8e63-4041-978e-61200d5b8c84",
   "metadata": {},
   "outputs": [
    {
     "name": "stdout",
     "output_type": "stream",
     "text": [
      "2024-10-02\n",
      "02 Oktober 2024\n"
     ]
    }
   ],
   "source": [
    "#membuat kalender\n",
    "import datetime as dt\n",
    "\n",
    "#tuple untuk nama bulan\n",
    "BULAN = ('Januari','Februari','Maret','April','Mei','Juni','Juli','Agustus','September','Oktober','November','Desember')\n",
    "#today akan berisi : 'YYYY-MM-DD'\n",
    "today= dt.date.isoformat(dt.date.today())\n",
    "\n",
    "yyyy = today[:4]\n",
    "mm = today[5:7]\n",
    "dd = today[8:]\n",
    "\n",
    "print(today)\n",
    "print('%s %s %s' % (dd,BULAN[int(mm)-1],yyyy))\n"
   ]
  },
  {
   "cell_type": "code",
   "execution_count": null,
   "id": "1ee3c469-8b46-40ce-894c-634d52dc8f57",
   "metadata": {
    "scrolled": true
   },
   "outputs": [],
   "source": []
  },
  {
   "cell_type": "code",
   "execution_count": null,
   "id": "3d7260c3-7f08-4625-9137-8172ca5d3f16",
   "metadata": {},
   "outputs": [],
   "source": []
  }
 ],
 "metadata": {
  "kernelspec": {
   "display_name": "anaconda-panel-2023.05-py310",
   "language": "python",
   "name": "conda-env-anaconda-panel-2023.05-py310-py"
  },
  "language_info": {
   "codemirror_mode": {
    "name": "ipython",
    "version": 3
   },
   "file_extension": ".py",
   "mimetype": "text/x-python",
   "name": "python",
   "nbconvert_exporter": "python",
   "pygments_lexer": "ipython3",
   "version": "3.11.5"
  }
 },
 "nbformat": 4,
 "nbformat_minor": 5
}
